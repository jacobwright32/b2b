{
 "cells": [],
 "metadata": {
  "environment": {
   "name": "common-cpu.m61",
   "type": "gcloud",
   "uri": "gcr.io/deeplearning-platform-release/base-cpu:m61"
  }
 },
 "nbformat": 4,
 "nbformat_minor": 4
}
